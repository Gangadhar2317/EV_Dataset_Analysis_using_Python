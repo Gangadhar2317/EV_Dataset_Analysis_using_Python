{
 "cells": [
  {
   "cell_type": "code",
   "execution_count": null,
   "id": "ca08f480-85fc-4dc9-af75-a5fa61f29bb2",
   "metadata": {},
   "outputs": [],
   "source": []
  },
  {
   "cell_type": "markdown",
   "id": "90fd08de-68c7-4d42-a5ff-7b6eebc58fb8",
   "metadata": {},
   "source": [
    "## EV_Dataset_Analysis_using_Python"
   ]
  },
  {
   "cell_type": "code",
   "execution_count": 19,
   "id": "29221acf-c572-4518-bca4-18384981d64d",
   "metadata": {},
   "outputs": [],
   "source": [
    "## IMPORT THE REQUIRED LIBRARIES \n",
    "import pandas as pd\n",
    "import numpy as np\n",
    "import matplotlib.pyplot as plt\n",
    "import seaborn as sns\n",
    "from scipy.stats import ttest_ind"
   ]
  },
  {
   "cell_type": "code",
   "execution_count": null,
   "id": "fbdd768c-c701-487f-b6cf-84efd6ecea06",
   "metadata": {},
   "outputs": [],
   "source": [
    "\n"
   ]
  },
  {
   "cell_type": "code",
   "execution_count": 23,
   "id": "80de0d46-b589-4116-a5db-ff69136ce4fc",
   "metadata": {},
   "outputs": [
    {
     "name": "stdout",
     "output_type": "stream",
     "text": [
      "                      Car full name  Make                        Model  \\\n",
      "0            Audi e-tron 55 quattro  Audi            e-tron 55 quattro   \n",
      "1            Audi e-tron 50 quattro  Audi            e-tron 50 quattro   \n",
      "2             Audi e-tron S quattro  Audi             e-tron S quattro   \n",
      "3  Audi e-tron Sportback 50 quattro  Audi  e-tron Sportback 50 quattro   \n",
      "4  Audi e-tron Sportback 55 quattro  Audi  e-tron Sportback 55 quattro   \n",
      "\n",
      "   Minimal price (gross) [PLN]  Engine power [KM]  Maximum torque [Nm]  \\\n",
      "0                       345700                360                  664   \n",
      "1                       308400                313                  540   \n",
      "2                       414900                503                  973   \n",
      "3                       319700                313                  540   \n",
      "4                       357000                360                  664   \n",
      "\n",
      "        Type of brakes Drive type  Battery capacity [kWh]  Range (WLTP) [km]  \\\n",
      "0  disc (front + rear)        4WD                    95.0                438   \n",
      "1  disc (front + rear)        4WD                    71.0                340   \n",
      "2  disc (front + rear)        4WD                    95.0                364   \n",
      "3  disc (front + rear)        4WD                    71.0                346   \n",
      "4  disc (front + rear)        4WD                    95.0                447   \n",
      "\n",
      "   ...  Permissable gross weight [kg]  Maximum load capacity [kg]  \\\n",
      "0  ...                         3130.0                       640.0   \n",
      "1  ...                         3040.0                       670.0   \n",
      "2  ...                         3130.0                       565.0   \n",
      "3  ...                         3040.0                       640.0   \n",
      "4  ...                         3130.0                       670.0   \n",
      "\n",
      "   Number of seats  Number of doors  Tire size [in]  Maximum speed [kph]  \\\n",
      "0                5                5              19                  200   \n",
      "1                5                5              19                  190   \n",
      "2                5                5              20                  210   \n",
      "3                5                5              19                  190   \n",
      "4                5                5              19                  200   \n",
      "\n",
      "   Boot capacity (VDA) [l]  Acceleration 0-100 kph [s]  \\\n",
      "0                    660.0                         5.7   \n",
      "1                    660.0                         6.8   \n",
      "2                    660.0                         4.5   \n",
      "3                    615.0                         6.8   \n",
      "4                    615.0                         5.7   \n",
      "\n",
      "   Maximum DC charging power [kW]  mean - Energy consumption [kWh/100 km]  \n",
      "0                             150                                   24.45  \n",
      "1                             150                                   23.80  \n",
      "2                             150                                   27.55  \n",
      "3                             150                                   23.30  \n",
      "4                             150                                   23.85  \n",
      "\n",
      "[5 rows x 25 columns]\n"
     ]
    }
   ],
   "source": [
    "# Load the dataset (Replace 'ev_dataset.csv' with your actual file name)\n",
    "df=pd.read_excel(\"ev_car_data.xlsx\")\n",
    "\n",
    "# Display the first few rows to understand the data\n",
    "print(df.head())"
   ]
  },
  {
   "cell_type": "code",
   "execution_count": null,
   "id": "56c69cf3-3f04-4e09-ae44-f540aa10349d",
   "metadata": {},
   "outputs": [],
   "source": [
    "\n"
   ]
  },
  {
   "cell_type": "markdown",
   "id": "cfd834f3-b0c0-4fa0-8d0f-151875f99c8c",
   "metadata": {},
   "source": [
    "## Task-1"
   ]
  },
  {
   "cell_type": "code",
   "execution_count": 54,
   "id": "946b402c-cf0d-4563-9a73-96dc1c5f24e0",
   "metadata": {},
   "outputs": [
    {
     "name": "stdout",
     "output_type": "stream",
     "text": [
      "Filtered EVs:\n",
      "             Make                        Model  Minimal price (gross) [PLN]  \\\n",
      "0            Audi            e-tron 55 quattro                       345700   \n",
      "8             BMW                          iX3                       282900   \n",
      "15        Hyundai          Kona electric 64kWh                       178400   \n",
      "18            Kia                 e-Niro 64kWh                       167990   \n",
      "20            Kia                 e-Soul 64kWh                       160990   \n",
      "22  Mercedes-Benz                          EQC                       334700   \n",
      "39          Tesla  Model 3 Standard Range Plus                       195490   \n",
      "40          Tesla           Model 3 Long Range                       235490   \n",
      "41          Tesla          Model 3 Performance                       260490   \n",
      "47     Volkswagen         ID.3 Pro Performance                       155890   \n",
      "48     Volkswagen                   ID.3 Pro S                       179990   \n",
      "49     Volkswagen                     ID.4 1st                       202390   \n",
      "\n",
      "    Range (WLTP) [km]  \n",
      "0                 438  \n",
      "8                 460  \n",
      "15                449  \n",
      "18                455  \n",
      "20                452  \n",
      "22                414  \n",
      "39                430  \n",
      "40                580  \n",
      "41                567  \n",
      "47                425  \n",
      "48                549  \n",
      "49                500  \n",
      "\n",
      "Average Battery Capacity by Manufacturer:\n",
      "Make\n",
      "Audi             95.000000\n",
      "BMW              80.000000\n",
      "Hyundai          64.000000\n",
      "Kia              64.000000\n",
      "Mercedes-Benz    80.000000\n",
      "Tesla            68.000000\n",
      "Volkswagen       70.666667\n",
      "Name: Battery capacity [kWh], dtype: float64\n"
     ]
    }
   ],
   "source": [
    "### TASK 1: FILTERING, GROUPING, AND AVERAGING BATTERY CAPACITY ###\n",
    "# Steps taken:\n",
    "# 1. Filter EVs with a budget of 350,000 PLN and range of at least 400 km.\n",
    "# 2. Group the filtered data by manufacturer (Make).\n",
    "# 3. Calculate the average battery capacity for each manufacturer.\n",
    "\n",
    "filtered_ev = df[(df['Minimal price (gross) [PLN]'] <= 350000) & (df['Range (WLTP) [km]'] >= 400)]\n",
    "print(\"Filtered EVs:\")\n",
    "print(filtered_ev[['Make', 'Model', 'Minimal price (gross) [PLN]', 'Range (WLTP) [km]']])\n",
    "\n",
    "grouped_by_make = filtered_ev.groupby('Make')\n",
    "avg_battery_capacity = grouped_by_make['Battery capacity [kWh]'].mean()\n",
    "print(\"\\nAverage Battery Capacity by Manufacturer:\")\n",
    "print(avg_battery_capacity)"
   ]
  },
  {
   "cell_type": "markdown",
   "id": "423a608a-45b8-4875-8828-de7e05e29fb6",
   "metadata": {},
   "source": [
    "## Explanation"
   ]
  },
  {
   "cell_type": "code",
   "execution_count": 60,
   "id": "06650f7e-c3c7-4a56-a378-616461782fb0",
   "metadata": {},
   "outputs": [],
   "source": [
    "# Explanation: We first filter the dataset based on the given criteria, then group by manufacturer.\n",
    "# Then calculated the average battery capacity for each manufacturer. \n",
    "# Analysis: This helps in identifying affordable long-range EVs and understanding battery performance trends across brands."
   ]
  },
  {
   "cell_type": "code",
   "execution_count": null,
   "id": "96a2edb0-b03b-4fdf-b463-a12af8948232",
   "metadata": {},
   "outputs": [],
   "source": [
    "\n"
   ]
  },
  {
   "cell_type": "markdown",
   "id": "078707ed-5fa4-4450-bf04-fa5826fe221b",
   "metadata": {},
   "source": [
    "## Task-2"
   ]
  },
  {
   "cell_type": "code",
   "execution_count": 62,
   "id": "e50108b7-078a-452d-ad12-1c79be1f4741",
   "metadata": {},
   "outputs": [
    {
     "name": "stdout",
     "output_type": "stream",
     "text": [
      "Using column: mean - Energy consumption [kWh/100 km]\n",
      "\n",
      "Outliers in Energy Consumption:\n",
      "             Make       Model  mean - Energy consumption [kWh/100 km]\n",
      "51  Mercedes-Benz  EQV (long)                                    28.2\n"
     ]
    }
   ],
   "source": [
    "### TASK 2: FINDING OUTLIERS IN ENERGY CONSUMPTION ###\n",
    "import difflib\n",
    "\n",
    "# Function to find the closest matching column name\n",
    "def get_closest_column_name(df, target_name):\n",
    "    closest_match = difflib.get_close_matches(target_name, df.columns, n=1, cutoff=0.5)\n",
    "    return closest_match[0] if closest_match else None\n",
    "\n",
    "# Find the correct column name for Energy Consumption\n",
    "energy_col = get_closest_column_name(df, 'Mean - Energy consumption [kWh/100 km]')\n",
    "\n",
    "if energy_col is None:\n",
    "    print(\"Column for energy consumption not found. Check dataset column names.\")\n",
    "else:\n",
    "    print(f\"Using column: {energy_col}\")  # To confirm correct column selection\n",
    "    \n",
    "    # Finding outliers using standard deviation method\n",
    "    mean_consumption = df[energy_col].mean()\n",
    "    std_consumption = df[energy_col].std()\n",
    "\n",
    "    lower_bound = mean_consumption - 2 * std_consumption\n",
    "    upper_bound = mean_consumption + 2 * std_consumption\n",
    "\n",
    "    outliers = df[(df[energy_col] < lower_bound) | (df[energy_col] > upper_bound)]\n",
    "    \n",
    "    print(\"\\nOutliers in Energy Consumption:\")\n",
    "    print(outliers[['Make', 'Model', energy_col]])"
   ]
  },
  {
   "cell_type": "markdown",
   "id": "8a5e4f2f-a671-483e-ad6e-da2c9a265208",
   "metadata": {},
   "source": [
    "## Explanation"
   ]
  },
  {
   "cell_type": "code",
   "execution_count": null,
   "id": "80d6df51-89f9-4e4a-8677-903fae6c8cfb",
   "metadata": {},
   "outputs": [],
   "source": [
    "# Explanation: We have used the standard deviation method to detect extreme values in energy consumption.\n",
    "# Analysis: Outliers indicate models that are either extremely efficient or inefficient, helping in informed decision-making.\n",
    "# Here we get only one outlier i.e. the energy consumption of Mercedes-Benz  EQV (long) valued at 28.2 ."
   ]
  },
  {
   "cell_type": "code",
   "execution_count": null,
   "id": "44f4aefd-c940-4621-8a42-10e4b0a74e0e",
   "metadata": {},
   "outputs": [],
   "source": [
    "\n"
   ]
  },
  {
   "cell_type": "markdown",
   "id": "53027456-605d-4a9e-8755-936255854834",
   "metadata": {},
   "source": [
    "## Task-3"
   ]
  },
  {
   "cell_type": "code",
   "execution_count": 66,
   "id": "0a08f4ca-bfac-4fe7-9cfe-ef0b0429b4c3",
   "metadata": {},
   "outputs": [
    {
     "data": {
      "image/png": "[encoded data removed]",
      "text/plain": [
       "<Figure size 1000x600 with 1 Axes>"
      ]
     },
     "metadata": {},
     "output_type": "display_data"
    }
   ],
   "source": [
    "### TASK 3: VISUALIZATION - BATTERY CAPACITY VS RANGE ###\n",
    "# Steps taken:\n",
    "# 1. Create a scatter plot with battery capacity on the x-axis and range on the y-axis.\n",
    "# 2. Use different colors to distinguish manufacturers.\n",
    "\n",
    "plt.figure(figsize=(10,6))\n",
    "sns.scatterplot(x=df['Battery capacity [kWh]'], y=df['Range (WLTP) [km]'], hue=df['Make'])\n",
    "plt.xlabel('Battery Capacity (kWh)')\n",
    "plt.ylabel('Range (km)')\n",
    "plt.title('Battery Capacity vs Range')\n",
    "plt.legend(loc='upper left', bbox_to_anchor=(1,1))\n",
    "plt.show()"
   ]
  },
  {
   "cell_type": "markdown",
   "id": "205a5c2a-7b2e-4993-8a9d-0680547ec706",
   "metadata": {},
   "source": [
    "## Explanation "
   ]
  },
  {
   "cell_type": "code",
   "execution_count": null,
   "id": "faac2a7b-da39-4d7a-b295-6092d6187888",
   "metadata": {},
   "outputs": [],
   "source": [
    "# Explanation: The scatter plot visualizes the relationship between battery capacity and range.\n",
    "# Analysis: A clear positive trend is observed :— larger batteries generally result in greater range. However, efficiency varies by manufacturer."
   ]
  },
  {
   "cell_type": "code",
   "execution_count": null,
   "id": "341e0da4-d0c3-43bb-9a47-7d619117b945",
   "metadata": {},
   "outputs": [],
   "source": [
    "\n"
   ]
  },
  {
   "cell_type": "markdown",
   "id": "95af2f1a-8516-41e2-8df3-037a25e8e41d",
   "metadata": {},
   "source": [
    "## Task-4"
   ]
  },
  {
   "cell_type": "code",
   "execution_count": 78,
   "id": "3bb2e21a-1589-4cb1-895e-ba8e3ecb1509",
   "metadata": {},
   "outputs": [
    {
     "name": "stdin",
     "output_type": "stream",
     "text": [
      "Enter your budget (PLN) (between 82000 - 794000):  400000\n",
      "Enter your desired minimum range in km(between 148 - 652):  500\n",
      "Enter your desired minimum battery capacity in kWh(between 17.6 - 100):  65\n"
     ]
    },
    {
     "name": "stdout",
     "output_type": "stream",
     "text": [
      "\n",
      "Top 3 Recommended EVs:                     Car full name  Minimal price (gross) [PLN]  \\\n",
      "42  Tesla Model S Long Range Plus                       368990   \n",
      "40       Tesla Model 3 Long Range                       235490   \n",
      "41      Tesla Model 3 Performance                       260490   \n",
      "\n",
      "    Range (WLTP) [km]  Battery capacity [kWh]  \n",
      "42                652                   100.0  \n",
      "40                580                    75.0  \n",
      "41                567                    75.0  \n"
     ]
    }
   ],
   "source": [
    "### TASK 4: EV RECOMMENDATION SYSTEM ###\n",
    "# Steps taken:\n",
    "# 1. Define a class `EVRecommendation` that takes the dataset.\n",
    "# 2. Implement a method `recommend()` to filter EVs based on user criteria (budget, range, battery capacity).\n",
    "# 3. Allow user input to dynamically filter data.\n",
    "class EVRecommendation:\n",
    "    def __init__(self, df):\n",
    "        self.df = df\n",
    "\n",
    "    def recommend(self, budget, min_range, min_battery):\n",
    "        recommended = self.df[(self.df['Minimal price (gross) [PLN]'] <= budget) &\n",
    "                              (self.df['Range (WLTP) [km]'] >= min_range) &\n",
    "                              (self.df['Battery capacity [kWh]'] >= min_battery)]\n",
    "        return recommended[['Car full name', 'Minimal price (gross) [PLN]', 'Range (WLTP) [km]', 'Battery capacity [kWh]']].nlargest(3, 'Range (WLTP) [km]')\n",
    "\n",
    "# Get user input for budget, range, and battery capacity\n",
    "budget = float(input(\"Enter your budget (PLN) (between 82000 - 794000): \"))\n",
    "min_range = float(input(\"Enter your desired minimum range in km(between 148 - 652): \"))\n",
    "min_battery = float(input(\"Enter your desired minimum battery capacity in kWh(between 17.6 - 100): \"))\n",
    "\n",
    "# Create recommender object and get recommendations\n",
    "recommender = EVRecommendation(df)\n",
    "recommended_evs = recommender.recommend(budget, min_range, min_battery)\n",
    "\n",
    "print(\"\\nTop 3 Recommended EVs:\",recommended_evs)"
   ]
  },
  {
   "cell_type": "markdown",
   "id": "d37d2c92-447e-438b-a6bb-22351e2b8482",
   "metadata": {},
   "source": [
    "## Explanation"
   ]
  },
  {
   "cell_type": "code",
   "execution_count": null,
   "id": "c3320c1a-d7e5-4b5f-b831-86fbc47045a1",
   "metadata": {},
   "outputs": [],
   "source": [
    "# Explanation: This class dynamically filters and returns the top 3 EVs matching user preferences.\n",
    "# Analysis: Users can make informed purchasing decisions based on their budget and other travel needs."
   ]
  },
  {
   "cell_type": "code",
   "execution_count": null,
   "id": "50e459b5-97bb-4ebc-be53-db71c83ee31a",
   "metadata": {},
   "outputs": [],
   "source": [
    "\n"
   ]
  },
  {
   "cell_type": "markdown",
   "id": "72095487-b345-4974-bca3-66a0c8018718",
   "metadata": {},
   "source": [
    "## Task-5"
   ]
  },
  {
   "cell_type": "code",
   "execution_count": 80,
   "id": "5a799bbe-3c9e-4dbb-9982-2b022371b3eb",
   "metadata": {},
   "outputs": [
    {
     "name": "stdout",
     "output_type": "stream",
     "text": [
      "\n",
      "T-Test Results:\n",
      "T-statistic: 1.7939951827297178, P-value: 0.10684105068839565\n",
      "No significant difference found in engine power between Tesla and Audi.\n"
     ]
    }
   ],
   "source": [
    "### TASK 5: HYPOTHESIS TESTING (TESLA VS AUDI ENGINE POWER) ###\n",
    "# Steps taken:\n",
    "# 1. Extract Tesla and Audi engine power data.\n",
    "# 2. Perform an independent two-sample t-test to compare their means.\n",
    "# 3. Analyze the p-value to determine statistical significance.\n",
    "\n",
    "tesla_power = df[df['Make'] == 'Tesla']['Engine power [KM]']\n",
    "audi_power = df[df['Make'] == 'Audi']['Engine power [KM]']\n",
    "\n",
    "stat, p_value = ttest_ind(tesla_power, audi_power, equal_var=False)\n",
    "print(\"\\nT-Test Results:\")\n",
    "print(f\"T-statistic: {stat}, P-value: {p_value}\")\n",
    "if p_value < 0.05:\n",
    "    print(\"Significant difference found in engine power between Tesla and Audi.\")\n",
    "else:\n",
    "    print(\"No significant difference found in engine power between Tesla and Audi.\")"
   ]
  },
  {
   "cell_type": "markdown",
   "id": "63a73f1a-c146-43cd-aff0-a5dced7e24dc",
   "metadata": {},
   "source": [
    "## Explanation"
   ]
  },
  {
   "cell_type": "code",
   "execution_count": null,
   "id": "9961f0ff-5f9a-4756-ab13-a5b86ad3b05b",
   "metadata": {},
   "outputs": [],
   "source": [
    "# Explanation: Here the t-test helped us to compare engine power across two major brands.\n",
    "# Analysis: If the p-value is below 0.05, the difference is statistically significant, indicating one brand has a higher average power than the other."
   ]
  },
  {
   "cell_type": "code",
   "execution_count": null,
   "id": "c93dcb7d-4b3b-4116-994f-c6d9b331147c",
   "metadata": {},
   "outputs": [],
   "source": [
    "\n"
   ]
  },
  {
   "cell_type": "markdown",
   "id": "cc9de381-48e5-42f8-8a2f-fa18da7160ab",
   "metadata": {},
   "source": [
    "## Task-6 : LINK FOR THE VIDEO EXPLANATION"
   ]
  },
  {
   "cell_type": "code",
   "execution_count": null,
   "id": "6d92ea00-edac-48cf-8c5e-533c9857ee90",
   "metadata": {},
   "outputs": [],
   "source": [
    "##  https://drive.google.com/file/d/1hcIZccPADzsv2V7mIPfs5q04f-r-nKYa/view?usp=sharing"
   ]
  },
  {
   "cell_type": "code",
   "execution_count": null,
   "id": "419d1c7c-fa84-4410-a48b-f83541f26584",
   "metadata": {},
   "outputs": [],
   "source": []
  },
  {
   "cell_type": "code",
   "execution_count": null,
   "id": "0f5c4d7f-7d4a-45a1-b885-19c8e8eafe7d",
   "metadata": {},
   "outputs": [],
   "source": []
  },
  {
   "cell_type": "code",
   "execution_count": null,
   "id": "eebcffa3-d156-4060-99d2-f122e1172773",
   "metadata": {},
   "outputs": [],
   "source": []
  }
 ],
 "metadata": {
  "kernelspec": {
   "display_name": "Python [conda env:base] *",
   "language": "python",
   "name": "conda-base-py"
  },
  "language_info": {
   "codemirror_mode": {
    "name": "ipython",
    "version": 3
   },
   "file_extension": ".py",
   "mimetype": "text/x-python",
   "name": "python",
   "nbconvert_exporter": "python",
   "pygments_lexer": "ipython3",
   "version": "3.12.7"
  }
 },
 "nbformat": 4,
 "nbformat_minor": 5
}
